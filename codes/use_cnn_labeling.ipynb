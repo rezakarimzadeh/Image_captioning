{
  "nbformat": 4,
  "nbformat_minor": 0,
  "metadata": {
    "colab": {
      "name": "use_cnn_labeling.ipynb",
      "provenance": [],
      "collapsed_sections": []
    },
    "kernelspec": {
      "name": "python3",
      "display_name": "Python 3"
    }
  },
  "cells": [
    {
      "cell_type": "code",
      "metadata": {
        "id": "91SYBp9vca0n",
        "colab_type": "code",
        "colab": {
          "base_uri": "https://localhost:8080/",
          "height": 125
        },
        "outputId": "fbda0500-3b3d-454b-b9ce-7a1884882865"
      },
      "source": [
        "from google.colab import drive\n",
        "drive.mount('/content/drive')"
      ],
      "execution_count": 1,
      "outputs": [
        {
          "output_type": "stream",
          "text": [
            "Go to this URL in a browser: https://accounts.google.com/o/oauth2/auth?client_id=947318989803-6bn6qk8qdgf4n4g3pfee6491hc0brc4i.apps.googleusercontent.com&redirect_uri=urn%3aietf%3awg%3aoauth%3a2.0%3aoob&response_type=code&scope=email%20https%3a%2f%2fwww.googleapis.com%2fauth%2fdocs.test%20https%3a%2f%2fwww.googleapis.com%2fauth%2fdrive%20https%3a%2f%2fwww.googleapis.com%2fauth%2fdrive.photos.readonly%20https%3a%2f%2fwww.googleapis.com%2fauth%2fpeopleapi.readonly\n",
            "\n",
            "Enter your authorization code:\n",
            "··········\n",
            "Mounted at /content/drive\n"
          ],
          "name": "stdout"
        }
      ]
    },
    {
      "cell_type": "code",
      "metadata": {
        "id": "Xdr0UcWPcicZ",
        "colab_type": "code",
        "colab": {}
      },
      "source": [
        "from keras.models import load_model\n",
        "path='drive/My Drive/deep_proj/' #for new data change the path\n",
        "model=load_model(path+'cnn_multi_label.h5')"
      ],
      "execution_count": 0,
      "outputs": []
    },
    {
      "cell_type": "code",
      "metadata": {
        "id": "1krGdCeddE4o",
        "colab_type": "code",
        "colab": {}
      },
      "source": [
        "import json\n",
        "\n",
        "with open(path+'image_labeling_info.json') as json_file:\n",
        "    image_labeling_info = json.load(json_file)"
      ],
      "execution_count": 0,
      "outputs": []
    },
    {
      "cell_type": "code",
      "metadata": {
        "id": "FcSv18D_deTJ",
        "colab_type": "code",
        "colab": {
          "base_uri": "https://localhost:8080/",
          "height": 125
        },
        "outputId": "5a7c4014-b889-45b4-8987-990740c85110"
      },
      "source": [
        "pip install pygame"
      ],
      "execution_count": 3,
      "outputs": [
        {
          "output_type": "stream",
          "text": [
            "Collecting pygame\n",
            "\u001b[?25l  Downloading https://files.pythonhosted.org/packages/8e/24/ede6428359f913ed9cd1643dd5533aefeb5a2699cc95bea089de50ead586/pygame-1.9.6-cp36-cp36m-manylinux1_x86_64.whl (11.4MB)\n",
            "\u001b[K     |████████████████████████████████| 11.4MB 2.7MB/s \n",
            "\u001b[?25hInstalling collected packages: pygame\n",
            "Successfully installed pygame-1.9.6\n"
          ],
          "name": "stdout"
        }
      ]
    },
    {
      "cell_type": "code",
      "metadata": {
        "id": "leJYmbEldmZM",
        "colab_type": "code",
        "colab": {
          "base_uri": "https://localhost:8080/",
          "height": 52
        },
        "outputId": "777a9ec5-732b-4d53-da0f-c5b58db37e16"
      },
      "source": [
        "#load test data\n",
        "import io, pygame\n",
        "import zipfile\n",
        "import cv2\n",
        "import matplotlib.pyplot as plt\n",
        "import numpy as np\n",
        "\n",
        "image_number=39 #len(image_labeling_info)\n",
        "data_set=np.zeros([image_number,224,224,3],dtype='uint8')\n",
        "file_path=path+'captioning_images.zip'\n",
        "\n",
        "labels=[]\n",
        "archive = zipfile.ZipFile(file_path, 'r')\n",
        "ind=0\n",
        "for index in range(image_number):\n",
        "    imgdata = archive.read(str(index+1)+'.jpg')  # image_labeling_info[index]['file_name']\n",
        "\n",
        "    # create a pygame-compatible file-like object from the bytes\n",
        "    bytes_io = io.BytesIO(imgdata)\n",
        "    img = pygame.image.load(bytes_io)\n",
        "    imgg = pygame.surfarray.array3d(img)\n",
        "    final=imgg.swapaxes(0,1)\n",
        "    resized = cv2.resize(final, (224,224), interpolation = cv2.INTER_AREA)\n",
        "    data_set[index,:,:,:] = resized\n"
      ],
      "execution_count": 4,
      "outputs": [
        {
          "output_type": "stream",
          "text": [
            "pygame 1.9.6\n",
            "Hello from the pygame community. https://www.pygame.org/contribute.html\n"
          ],
          "name": "stdout"
        }
      ]
    },
    {
      "cell_type": "code",
      "metadata": {
        "id": "ZvGp7ZpXd6Uf",
        "colab_type": "code",
        "colab": {}
      },
      "source": [
        "import keras\n",
        "data_set_preprocessed = keras.applications.xception.preprocess_input(data_set)"
      ],
      "execution_count": 0,
      "outputs": []
    },
    {
      "cell_type": "code",
      "metadata": {
        "id": "mtN7RLV9gRic",
        "colab_type": "code",
        "colab": {}
      },
      "source": [
        "import numpy as np\n",
        "classes_=np.load(path+'classes_.npy')"
      ],
      "execution_count": 0,
      "outputs": []
    },
    {
      "cell_type": "code",
      "metadata": {
        "id": "-LGhuJ_PeFMc",
        "colab_type": "code",
        "colab": {}
      },
      "source": [
        "import matplotlib.pyplot as plt\n",
        "\n",
        "def generate_label(im_idx):\n",
        "    img=data_set_preprocessed[im_idx]\n",
        "    \n",
        "    #plot image\n",
        "    # plt.imshow(img)\n",
        "    # plt.show()\n",
        "\n",
        "    #for feeding data to model\n",
        "    img=np.expand_dims(img,axis=0)\n",
        "    predicted_class=model.predict(img)\n",
        "\n",
        "    max_idxs=np.argsort(predicted_class)[0][::-1][:1]\n",
        "\n",
        "    # print('pridected labels:',classes_[max_idxs] )\n",
        "    return classes_[max_idxs]"
      ],
      "execution_count": 0,
      "outputs": []
    },
    {
      "cell_type": "code",
      "metadata": {
        "id": "LQ-eM8RCfIJJ",
        "colab_type": "code",
        "colab": {}
      },
      "source": [
        "label={}\n",
        "labels=[]\n",
        "category_id=['category_id']\n",
        "for i in range(image_number):\n",
        "    l=generate_label(i)\n",
        "    \n",
        "    label[category_id[0]]=int(l[0])\n",
        "\n",
        "    labels.append(label.copy())"
      ],
      "execution_count": 0,
      "outputs": []
    },
    {
      "cell_type": "code",
      "metadata": {
        "id": "jv1dYKJZiMRV",
        "colab_type": "code",
        "colab": {}
      },
      "source": [
        "import json\n",
        "with open(path+'labels.json', 'w') as f:\n",
        "    json.dump(labels, f)"
      ],
      "execution_count": 0,
      "outputs": []
    },
    {
      "cell_type": "code",
      "metadata": {
        "id": "AQKOFSEkn6SY",
        "colab_type": "code",
        "colab": {}
      },
      "source": [
        "with open(path+'labels.json') as json_file:\n",
        "    labels = json.load(json_file)"
      ],
      "execution_count": 0,
      "outputs": []
    },
    {
      "cell_type": "code",
      "metadata": {
        "id": "N755U_EnoDlA",
        "colab_type": "code",
        "colab": {}
      },
      "source": [
        "#show labels\n",
        "labels"
      ],
      "execution_count": 0,
      "outputs": []
    }
  ]
}